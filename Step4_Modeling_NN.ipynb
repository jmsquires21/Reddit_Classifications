{
 "cells": [
  {
   "cell_type": "markdown",
   "id": "eff386fe-ecdc-479c-be03-280ab5f09d31",
   "metadata": {},
   "source": [
    "# Step 4: Neural Networks"
   ]
  },
  {
   "cell_type": "code",
   "execution_count": 31,
   "id": "30442cae-91a1-41f0-b8d9-7597425f1f45",
   "metadata": {},
   "outputs": [],
   "source": [
    "## Imports\n",
    "import pandas as pd\n",
    "import numpy as np\n",
    "import nltk\n",
    "from sklearn.feature_extraction.text import CountVectorizer, TfidfVectorizer\n",
    "import matplotlib.pyplot as plt\n",
    "import tensorflow as tf\n",
    "from tensorflow.keras.models import Sequential\n",
    "from tensorflow.keras.layers import Dense, Dropout\n",
    "from tensorflow.keras.utils import to_categorical, plot_model\n",
    "from tensorflow.keras.metrics import Recall, Precision\n",
    "from sklearn.preprocessing import StandardScaler\n",
    "from tensorflow.keras.callbacks import EarlyStopping\n",
    "\n",
    "%matplotlib inline\n",
    "\n",
    "import warnings\n",
    "\n",
    "warnings.filterwarnings('ignore')\n"
   ]
  },
  {
   "cell_type": "markdown",
   "id": "ad040dec-3576-40e2-a7e7-cfdd8f25b2cc",
   "metadata": {},
   "source": [
    "### Read in data from step 1 & prep for modeling"
   ]
  },
  {
   "cell_type": "code",
   "execution_count": 2,
   "id": "5ed00898-1570-4e0a-9880-c087b459048d",
   "metadata": {},
   "outputs": [
    {
     "data": {
      "text/html": [
       "<div>\n",
       "<style scoped>\n",
       "    .dataframe tbody tr th:only-of-type {\n",
       "        vertical-align: middle;\n",
       "    }\n",
       "\n",
       "    .dataframe tbody tr th {\n",
       "        vertical-align: top;\n",
       "    }\n",
       "\n",
       "    .dataframe thead th {\n",
       "        text-align: right;\n",
       "    }\n",
       "</style>\n",
       "<table border=\"1\" class=\"dataframe\">\n",
       "  <thead>\n",
       "    <tr style=\"text-align: right;\">\n",
       "      <th></th>\n",
       "      <th>created_utc</th>\n",
       "      <th>selftext</th>\n",
       "      <th>subreddit</th>\n",
       "      <th>title</th>\n",
       "      <th>ds_ind</th>\n",
       "    </tr>\n",
       "  </thead>\n",
       "  <tbody>\n",
       "    <tr>\n",
       "      <th>0</th>\n",
       "      <td>1638348806</td>\n",
       "      <td>Ideally would love a program that goes at my o...</td>\n",
       "      <td>datascience</td>\n",
       "      <td>Can a master's in DS from WGU or like universi...</td>\n",
       "      <td>1</td>\n",
       "    </tr>\n",
       "    <tr>\n",
       "      <th>1</th>\n",
       "      <td>1638348235</td>\n",
       "      <td>NaN</td>\n",
       "      <td>datascience</td>\n",
       "      <td>Data Scientists in Germany: What to expect as ...</td>\n",
       "      <td>1</td>\n",
       "    </tr>\n",
       "    <tr>\n",
       "      <th>2</th>\n",
       "      <td>1638344086</td>\n",
       "      <td>NaN</td>\n",
       "      <td>datascience</td>\n",
       "      <td>How's Pluralsight for Data Science?</td>\n",
       "      <td>1</td>\n",
       "    </tr>\n",
       "    <tr>\n",
       "      <th>3</th>\n",
       "      <td>1638341696</td>\n",
       "      <td>I am trying to implement this for car dashcam ...</td>\n",
       "      <td>datascience</td>\n",
       "      <td>vid2depth on custom video</td>\n",
       "      <td>1</td>\n",
       "    </tr>\n",
       "    <tr>\n",
       "      <th>4</th>\n",
       "      <td>1638333037</td>\n",
       "      <td>\\n\\nShould I buy this offer if I now the basi...</td>\n",
       "      <td>datascience</td>\n",
       "      <td>DataCamp CyberMonday Offer</td>\n",
       "      <td>1</td>\n",
       "    </tr>\n",
       "  </tbody>\n",
       "</table>\n",
       "</div>"
      ],
      "text/plain": [
       "   created_utc                                           selftext  \\\n",
       "0   1638348806  Ideally would love a program that goes at my o...   \n",
       "1   1638348235                                                NaN   \n",
       "2   1638344086                                                NaN   \n",
       "3   1638341696  I am trying to implement this for car dashcam ...   \n",
       "4   1638333037   \\n\\nShould I buy this offer if I now the basi...   \n",
       "\n",
       "     subreddit                                              title  ds_ind  \n",
       "0  datascience  Can a master's in DS from WGU or like universi...       1  \n",
       "1  datascience  Data Scientists in Germany: What to expect as ...       1  \n",
       "2  datascience                How's Pluralsight for Data Science?       1  \n",
       "3  datascience                          vid2depth on custom video       1  \n",
       "4  datascience                         DataCamp CyberMonday Offer       1  "
      ]
     },
     "execution_count": 2,
     "metadata": {},
     "output_type": "execute_result"
    }
   ],
   "source": [
    "# Import the data we're looking at from part 1\n",
    "both_posts_imp = pd.read_csv('../data/both_posts_step1_xl.csv')\n",
    "both_posts_imp.drop(columns=\"Unnamed: 0\", inplace=True)\n",
    "both_posts_imp.head()"
   ]
  },
  {
   "cell_type": "markdown",
   "id": "19a5a47a-b92a-4050-9768-e5f361b68394",
   "metadata": {},
   "source": [
    "### Create Stopwords Lists"
   ]
  },
  {
   "cell_type": "code",
   "execution_count": 3,
   "id": "acca6e09-3705-4e09-ba02-e2d2398606e4",
   "metadata": {},
   "outputs": [],
   "source": [
    "stopwords_custom1 = nltk.corpus.stopwords.words('english')\n",
    "stopwords_custom1.append(\"data science\")\n",
    "stopwords_custom1.append(\"analytics\")\n",
    "stopwords_custom1.append(\"science\")\n",
    "stopwords_custom1.append(\"scientists\")\n",
    "stopwords_custom1.append(\"data\")"
   ]
  },
  {
   "cell_type": "code",
   "execution_count": 4,
   "id": "61d7f12d-2d18-485d-a3e1-87238b4567a9",
   "metadata": {},
   "outputs": [],
   "source": [
    "stopwords_custom2 = nltk.corpus.stopwords.words('english')\n",
    "stopwords_custom2.append(\"data science\")\n",
    "stopwords_custom2.append(\"data\")\n",
    "stopwords_custom2.append(\"analytics\")\n",
    "stopwords_custom2.append(\"science\")\n",
    "stopwords_custom2.append(\"scientists\")\n",
    "stopwords_custom2.append(\"get\")\n",
    "stopwords_custom2.append(\"amp\")\n",
    "stopwords_custom2.append(\"would\")\n",
    "stopwords_custom2.append(\"using\")\n",
    "stopwords_custom2.append(\"use\")"
   ]
  },
  {
   "cell_type": "markdown",
   "id": "ac59ba6d-4a67-4ac0-a858-b7ae9144966a",
   "metadata": {},
   "source": [
    "## Setup Target X and Y"
   ]
  },
  {
   "cell_type": "code",
   "execution_count": 5,
   "id": "97501357-b7b6-4345-b0dd-ab80de3839db",
   "metadata": {},
   "outputs": [],
   "source": [
    "tf.random.set_seed(42)"
   ]
  },
  {
   "cell_type": "code",
   "execution_count": 6,
   "id": "e7ce2db8-5836-47ac-a84f-a6ec4084dedb",
   "metadata": {},
   "outputs": [],
   "source": [
    "#create X based on title texts\n",
    "XX=both_posts_imp['title']"
   ]
  },
  {
   "cell_type": "code",
   "execution_count": 7,
   "id": "8250dfed-00f4-41f3-8402-2a370bd8a0d5",
   "metadata": {},
   "outputs": [
    {
     "data": {
      "text/html": [
       "<div>\n",
       "<style scoped>\n",
       "    .dataframe tbody tr th:only-of-type {\n",
       "        vertical-align: middle;\n",
       "    }\n",
       "\n",
       "    .dataframe tbody tr th {\n",
       "        vertical-align: top;\n",
       "    }\n",
       "\n",
       "    .dataframe thead th {\n",
       "        text-align: right;\n",
       "    }\n",
       "</style>\n",
       "<table border=\"1\" class=\"dataframe\">\n",
       "  <thead>\n",
       "    <tr style=\"text-align: right;\">\n",
       "      <th></th>\n",
       "      <th>00</th>\n",
       "      <th>000</th>\n",
       "      <th>01</th>\n",
       "      <th>02</th>\n",
       "      <th>03</th>\n",
       "      <th>04</th>\n",
       "      <th>05</th>\n",
       "      <th>06</th>\n",
       "      <th>065</th>\n",
       "      <th>07</th>\n",
       "      <th>...</th>\n",
       "      <th>zuora</th>\n",
       "      <th>массивами</th>\n",
       "      <th>нуля</th>\n",
       "      <th>оf</th>\n",
       "      <th>операции</th>\n",
       "      <th>основы</th>\n",
       "      <th>раssed</th>\n",
       "      <th>إلى</th>\n",
       "      <th>𝐃𝐚𝐭𝐚</th>\n",
       "      <th>𝐒𝐜𝐢𝐞𝐧𝐜𝐞</th>\n",
       "    </tr>\n",
       "  </thead>\n",
       "  <tbody>\n",
       "    <tr>\n",
       "      <th>0</th>\n",
       "      <td>0</td>\n",
       "      <td>0</td>\n",
       "      <td>0</td>\n",
       "      <td>0</td>\n",
       "      <td>0</td>\n",
       "      <td>0</td>\n",
       "      <td>0</td>\n",
       "      <td>0</td>\n",
       "      <td>0</td>\n",
       "      <td>0</td>\n",
       "      <td>...</td>\n",
       "      <td>0</td>\n",
       "      <td>0</td>\n",
       "      <td>0</td>\n",
       "      <td>0</td>\n",
       "      <td>0</td>\n",
       "      <td>0</td>\n",
       "      <td>0</td>\n",
       "      <td>0</td>\n",
       "      <td>0</td>\n",
       "      <td>0</td>\n",
       "    </tr>\n",
       "    <tr>\n",
       "      <th>1</th>\n",
       "      <td>0</td>\n",
       "      <td>0</td>\n",
       "      <td>0</td>\n",
       "      <td>0</td>\n",
       "      <td>0</td>\n",
       "      <td>0</td>\n",
       "      <td>0</td>\n",
       "      <td>0</td>\n",
       "      <td>0</td>\n",
       "      <td>0</td>\n",
       "      <td>...</td>\n",
       "      <td>0</td>\n",
       "      <td>0</td>\n",
       "      <td>0</td>\n",
       "      <td>0</td>\n",
       "      <td>0</td>\n",
       "      <td>0</td>\n",
       "      <td>0</td>\n",
       "      <td>0</td>\n",
       "      <td>0</td>\n",
       "      <td>0</td>\n",
       "    </tr>\n",
       "    <tr>\n",
       "      <th>2</th>\n",
       "      <td>0</td>\n",
       "      <td>0</td>\n",
       "      <td>0</td>\n",
       "      <td>0</td>\n",
       "      <td>0</td>\n",
       "      <td>0</td>\n",
       "      <td>0</td>\n",
       "      <td>0</td>\n",
       "      <td>0</td>\n",
       "      <td>0</td>\n",
       "      <td>...</td>\n",
       "      <td>0</td>\n",
       "      <td>0</td>\n",
       "      <td>0</td>\n",
       "      <td>0</td>\n",
       "      <td>0</td>\n",
       "      <td>0</td>\n",
       "      <td>0</td>\n",
       "      <td>0</td>\n",
       "      <td>0</td>\n",
       "      <td>0</td>\n",
       "    </tr>\n",
       "    <tr>\n",
       "      <th>3</th>\n",
       "      <td>0</td>\n",
       "      <td>0</td>\n",
       "      <td>0</td>\n",
       "      <td>0</td>\n",
       "      <td>0</td>\n",
       "      <td>0</td>\n",
       "      <td>0</td>\n",
       "      <td>0</td>\n",
       "      <td>0</td>\n",
       "      <td>0</td>\n",
       "      <td>...</td>\n",
       "      <td>0</td>\n",
       "      <td>0</td>\n",
       "      <td>0</td>\n",
       "      <td>0</td>\n",
       "      <td>0</td>\n",
       "      <td>0</td>\n",
       "      <td>0</td>\n",
       "      <td>0</td>\n",
       "      <td>0</td>\n",
       "      <td>0</td>\n",
       "    </tr>\n",
       "    <tr>\n",
       "      <th>4</th>\n",
       "      <td>0</td>\n",
       "      <td>0</td>\n",
       "      <td>0</td>\n",
       "      <td>0</td>\n",
       "      <td>0</td>\n",
       "      <td>0</td>\n",
       "      <td>0</td>\n",
       "      <td>0</td>\n",
       "      <td>0</td>\n",
       "      <td>0</td>\n",
       "      <td>...</td>\n",
       "      <td>0</td>\n",
       "      <td>0</td>\n",
       "      <td>0</td>\n",
       "      <td>0</td>\n",
       "      <td>0</td>\n",
       "      <td>0</td>\n",
       "      <td>0</td>\n",
       "      <td>0</td>\n",
       "      <td>0</td>\n",
       "      <td>0</td>\n",
       "    </tr>\n",
       "  </tbody>\n",
       "</table>\n",
       "<p>5 rows × 6088 columns</p>\n",
       "</div>"
      ],
      "text/plain": [
       "   00  000  01  02  03  04  05  06  065  07  ...  zuora  массивами  нуля  оf  \\\n",
       "0   0    0   0   0   0   0   0   0    0   0  ...      0          0     0   0   \n",
       "1   0    0   0   0   0   0   0   0    0   0  ...      0          0     0   0   \n",
       "2   0    0   0   0   0   0   0   0    0   0  ...      0          0     0   0   \n",
       "3   0    0   0   0   0   0   0   0    0   0  ...      0          0     0   0   \n",
       "4   0    0   0   0   0   0   0   0    0   0  ...      0          0     0   0   \n",
       "\n",
       "   операции  основы  раssed  إلى  𝐃𝐚𝐭𝐚  𝐒𝐜𝐢𝐞𝐧𝐜𝐞  \n",
       "0         0       0       0    0     0        0  \n",
       "1         0       0       0    0     0        0  \n",
       "2         0       0       0    0     0        0  \n",
       "3         0       0       0    0     0        0  \n",
       "4         0       0       0    0     0        0  \n",
       "\n",
       "[5 rows x 6088 columns]"
      ]
     },
     "execution_count": 7,
     "metadata": {},
     "output_type": "execute_result"
    }
   ],
   "source": [
    "#Create Count Vectorizer df\n",
    "cv = CountVectorizer(min_df = 2, stop_words='english')\n",
    "cv.fit(XX)\n",
    "cv_text = cv.transform(XX)\n",
    "# use .todense() to de-sparsify the cvec text\n",
    "cv_text_df = pd.DataFrame(cv_text.todense(), columns = cv.get_feature_names())\n",
    "cv_text_df.head()"
   ]
  },
  {
   "cell_type": "code",
   "execution_count": 8,
   "id": "60d88fb3-0e59-4bf0-b154-161694d630e9",
   "metadata": {},
   "outputs": [],
   "source": [
    "#train test split \n",
    "X=cv_text_df\n",
    "y=both_posts_imp['ds_ind']\n",
    "\n",
    "X_train, X_test, y_train, y_test = train_test_split(X,y, random_state=42, stratify=y)\n",
    "\n",
    "sc=StandardScaler()\n",
    "X_train_sc= sc.fit_transform(X_train)\n",
    "X_test_sc=sc.transform(X_test)"
   ]
  },
  {
   "cell_type": "code",
   "execution_count": 10,
   "id": "cd27769b-c641-4bd6-ba47-016eb4f95306",
   "metadata": {},
   "outputs": [
    {
     "data": {
      "text/plain": [
       "6088"
      ]
     },
     "execution_count": 10,
     "metadata": {},
     "output_type": "execute_result"
    }
   ],
   "source": [
    "n_input = X_train_sc.shape[1]\n",
    "n_input"
   ]
  },
  {
   "cell_type": "code",
   "execution_count": 11,
   "id": "c7386519-374a-46b9-ba47-853fb0530288",
   "metadata": {},
   "outputs": [
    {
     "data": {
      "text/plain": [
       "8192"
      ]
     },
     "execution_count": 11,
     "metadata": {},
     "output_type": "execute_result"
    }
   ],
   "source": [
    "#use number in power of 2 that is > n_input above\n",
    "2**13"
   ]
  },
  {
   "cell_type": "markdown",
   "id": "701d72e1-78e7-4239-8c86-6dd43c7e1b5e",
   "metadata": {},
   "source": [
    "## Model Passes"
   ]
  },
  {
   "cell_type": "code",
   "execution_count": 12,
   "id": "912ca50b-c7aa-4841-b013-c3e3d4dbae45",
   "metadata": {},
   "outputs": [
    {
     "name": "stdout",
     "output_type": "stream",
     "text": [
      "Epoch 1/10\n",
      "59/59 [==============================] - 53s 891ms/step - loss: 2.1798 - acc: 0.6030 - val_loss: 0.6145 - val_acc: 0.7183\n",
      "Epoch 2/10\n",
      "59/59 [==============================] - 67s 1s/step - loss: 0.4040 - acc: 0.8252 - val_loss: 0.5981 - val_acc: 0.7371\n",
      "Epoch 3/10\n",
      "59/59 [==============================] - 73s 1s/step - loss: 0.2145 - acc: 0.9088 - val_loss: 0.8911 - val_acc: 0.7367\n",
      "Epoch 4/10\n",
      "59/59 [==============================] - 74s 1s/step - loss: 0.1433 - acc: 0.9397 - val_loss: 1.2014 - val_acc: 0.7355\n",
      "Epoch 5/10\n",
      "59/59 [==============================] - 73s 1s/step - loss: 0.1192 - acc: 0.9533 - val_loss: 1.1981 - val_acc: 0.7347\n",
      "Epoch 6/10\n",
      "59/59 [==============================] - 74s 1s/step - loss: 0.0905 - acc: 0.9627 - val_loss: 1.5927 - val_acc: 0.7311\n",
      "Epoch 7/10\n",
      "59/59 [==============================] - 73s 1s/step - loss: 0.0825 - acc: 0.9655 - val_loss: 1.7238 - val_acc: 0.7385\n",
      "Epoch 8/10\n",
      "59/59 [==============================] - 74s 1s/step - loss: 0.0764 - acc: 0.9698 - val_loss: 1.6618 - val_acc: 0.7423\n",
      "Epoch 9/10\n",
      "59/59 [==============================] - 74s 1s/step - loss: 0.0647 - acc: 0.9722 - val_loss: 1.8041 - val_acc: 0.7413\n",
      "Epoch 10/10\n",
      "59/59 [==============================] - 73s 1s/step - loss: 0.0612 - acc: 0.9748 - val_loss: 1.6195 - val_acc: 0.7461\n"
     ]
    }
   ],
   "source": [
    "# 1st Pass with Simple Structure \n",
    "\n",
    "\n",
    "# Instantiate our Network\n",
    "model = Sequential()\n",
    "\n",
    "# First layer - input AND 1st hidden layer\n",
    "model.add(Dense(units=8192, # number of neuros in the 1st hidden layer (number in the power of 2 that is larger than than the number of features)\n",
    "                activation='relu', # Relu activation function\n",
    "                input_shape=(6088,) # Shape of the input layer/number of features/numnber of neurons in the input layer\n",
    "                ))\n",
    "# Add a second hidden layer\n",
    "model.add(Dense(units=8192, activation='relu')) # NO need to specificy the input_shape because it knows from the previous layer\n",
    "\n",
    "# Output Layer\n",
    "model.add(Dense(units=1, activation='sigmoid'))\n",
    "model.compile(loss='bce', optimizer='adam', metrics=['acc'])\n",
    "\n",
    "results = model.fit(X_train_sc, y_train, #training data\n",
    "                    epochs=10, # Number of passes\n",
    "                    batch_size=256, #Maximum of 256 rows of data in every mini batch\n",
    "                    validation_data=(X_test_sc, y_test) # Validation data/Unseen Data\n",
    "                    )"
   ]
  },
  {
   "cell_type": "code",
   "execution_count": 13,
   "id": "d4cf81c8-7332-4c42-9273-691b50b0ae29",
   "metadata": {},
   "outputs": [
    {
     "data": {
      "image/png": "[encoded data removed]",
      "text/plain": [
       "<Figure size 432x288 with 1 Axes>"
      ]
     },
     "metadata": {
      "needs_background": "light"
     },
     "output_type": "display_data"
    }
   ],
   "source": [
    "plt.plot(results.history['acc'], label='Training Accuracy (Binary Crossentropy)')\n",
    "plt.plot(results.history['val_acc'], label='Testing Accuracy (Binary Crossentropy)')\n",
    "plt.legend();"
   ]
  },
  {
   "cell_type": "code",
   "execution_count": 32,
   "id": "55c0524b-a5aa-49e3-a58d-169855f8142e",
   "metadata": {},
   "outputs": [
    {
     "name": "stdout",
     "output_type": "stream",
     "text": [
      "Epoch 1/10\n",
      "59/59 [==============================] - 25s 414ms/step - loss: 0.7827 - acc: 0.5879 - val_loss: 0.5599 - val_acc: 0.7333\n",
      "Epoch 2/10\n",
      "59/59 [==============================] - 29s 489ms/step - loss: 0.4436 - acc: 0.7639 - val_loss: 0.5106 - val_acc: 0.7489\n",
      "Epoch 3/10\n",
      "59/59 [==============================] - 29s 487ms/step - loss: 0.3163 - acc: 0.8768 - val_loss: 0.5679 - val_acc: 0.7477\n",
      "Epoch 4/10\n",
      "59/59 [==============================] - 31s 524ms/step - loss: 0.2418 - acc: 0.9103 - val_loss: 0.7048 - val_acc: 0.7463\n",
      "Epoch 5/10\n",
      "59/59 [==============================] - 33s 560ms/step - loss: 0.1933 - acc: 0.9287 - val_loss: 0.7910 - val_acc: 0.7429\n",
      "Epoch 6/10\n",
      "59/59 [==============================] - 38s 649ms/step - loss: 0.1699 - acc: 0.9378 - val_loss: 0.8222 - val_acc: 0.7530\n",
      "Epoch 7/10\n",
      "59/59 [==============================] - 43s 736ms/step - loss: 0.1443 - acc: 0.9491 - val_loss: 0.9949 - val_acc: 0.7433\n",
      "Epoch 8/10\n",
      "59/59 [==============================] - 44s 741ms/step - loss: 0.1354 - acc: 0.9495 - val_loss: 1.0420 - val_acc: 0.7447\n",
      "Epoch 9/10\n",
      "59/59 [==============================] - 43s 735ms/step - loss: 0.1274 - acc: 0.9531 - val_loss: 1.0887 - val_acc: 0.7433\n",
      "Epoch 10/10\n",
      "59/59 [==============================] - 44s 738ms/step - loss: 0.1190 - acc: 0.9563 - val_loss: 1.1268 - val_acc: 0.7463\n"
     ]
    }
   ],
   "source": [
    "# 2nd Pass with Dropout Layers\n",
    "\n",
    "# Instantiate our Network\n",
    "model2 = Sequential()\n",
    "\n",
    "# First layer - input AND 1st hidden layer\n",
    "model2.add(Dense(units=8192, # number of neuros in the 1st hidden layer (number in the power of 2 that is larger than than the number of features)\n",
    "                activation='relu', # Relu activation function\n",
    "                input_shape=(6088,) # Shape of the input layer/number of features/numnber of neurons in the input layer\n",
    "                ))\n",
    "\n",
    "# Output Layer\n",
    "model2.add(Dense(units=3000, activation='sigmoid'))\n",
    "model2.add(Dropout(0.2)) # Refers to nodes in the first hidden layer\n",
    "model2.add(Dense(100, activation = 'relu'))\n",
    "model2.add(Dropout(0.2))\n",
    "\n",
    "\n",
    "model2.add(Dense(1, activation = 'sigmoid'))\n",
    "\n",
    "\n",
    "model2.compile(loss='bce', optimizer='adam', metrics=['acc'])\n",
    "\n",
    "results2 = model2.fit(X_train_sc, y_train, #training data\n",
    "                    epochs=10, # Number of passes\n",
    "                    batch_size=256, #Maximum of 256 rows of data in every mini batch\n",
    "                    validation_data=(X_test_sc, y_test) # Validation data/Unseen Data\n",
    "                    )"
   ]
  },
  {
   "cell_type": "code",
   "execution_count": 15,
   "id": "bb8b317f-e066-413f-84ef-8322ceba523d",
   "metadata": {},
   "outputs": [
    {
     "data": {
      "image/png": "[encoded data removed]",
      "text/plain": [
       "<Figure size 432x288 with 1 Axes>"
      ]
     },
     "metadata": {
      "needs_background": "light"
     },
     "output_type": "display_data"
    }
   ],
   "source": [
    "plt.plot(results2.history['acc'], label='Training Accuracy (Binary Crossentropy)')\n",
    "plt.plot(results2.history['val_acc'], label='Testing Accuracy (Binary Crossentropy)')\n",
    "plt.legend();"
   ]
  },
  {
   "cell_type": "code",
   "execution_count": 16,
   "id": "4762fb2b-b939-4dbc-bcd5-b48904fdc107",
   "metadata": {},
   "outputs": [
    {
     "name": "stdout",
     "output_type": "stream",
     "text": [
      "Epoch 1/10\n",
      "59/59 [==============================] - 24s 408ms/step - loss: 0.6030 - acc: 0.6749 - val_loss: 0.5140 - val_acc: 0.7469\n",
      "Epoch 2/10\n",
      "59/59 [==============================] - 24s 405ms/step - loss: 0.3039 - acc: 0.8628 - val_loss: 0.6449 - val_acc: 0.7461\n",
      "Epoch 3/10\n",
      "59/59 [==============================] - 24s 401ms/step - loss: 0.1980 - acc: 0.9112 - val_loss: 0.8009 - val_acc: 0.7493\n",
      "Epoch 4/10\n",
      "59/59 [==============================] - 24s 410ms/step - loss: 0.1495 - acc: 0.9355 - val_loss: 0.9044 - val_acc: 0.7536\n",
      "Epoch 5/10\n",
      "59/59 [==============================] - 24s 401ms/step - loss: 0.1180 - acc: 0.9458 - val_loss: 1.2548 - val_acc: 0.7544\n",
      "Epoch 6/10\n",
      "59/59 [==============================] - 24s 401ms/step - loss: 0.0960 - acc: 0.9541 - val_loss: 1.4311 - val_acc: 0.7522\n",
      "Epoch 00006: early stopping\n"
     ]
    }
   ],
   "source": [
    "# 3rd Pass with Early Stopping (first iteration)\n",
    "\n",
    "model3 = Sequential()\n",
    "\n",
    "# First layer is the input layer AND the hidden layer\n",
    "model3.add(Dense(units=8192, # number of neuros in the 1st hidden layer (number in the power of 2 that is larger than than the number of features)\n",
    "                activation='relu', # Relu activation function\n",
    "                input_shape=(6088,) # Shape of the input layer/number of features/numnber of neurons in the input layer\n",
    "                ))\n",
    "model3.add(Dense(128, activation='relu'))\n",
    "model3.add(Dense(64, activation='relu'))\n",
    "model3.add(Dense(16, activation='relu'))\n",
    "\n",
    "model3.add(Dense(units=1, activation='sigmoid'))\n",
    "model3.compile(loss='bce', optimizer='adam', metrics=['acc'])\n",
    "\n",
    "early_stop = EarlyStopping(monitor = 'val_loss', min_delta=0, patience = 5, verbose = 1, mode = 'auto')\n",
    "\n",
    "results3 = model3.fit(X_train_sc, y_train,\n",
    "                    batch_size=256,\n",
    "                    epochs=10,\n",
    "                    validation_data=(X_test_sc, y_test),\n",
    "                    callbacks = [early_stop]\n",
    "                    \n",
    "                    )"
   ]
  },
  {
   "cell_type": "code",
   "execution_count": 17,
   "id": "26577dd8-e5a5-4807-980c-75ea4dafdb7f",
   "metadata": {},
   "outputs": [
    {
     "name": "stdout",
     "output_type": "stream",
     "text": [
      "Epoch 1/10\n",
      "59/59 [==============================] - 24s 396ms/step - loss: 0.6557 - acc: 0.6147 - val_loss: 0.5604 - val_acc: 0.7291\n",
      "Epoch 2/10\n",
      "59/59 [==============================] - 23s 398ms/step - loss: 0.5398 - acc: 0.7304 - val_loss: 0.5144 - val_acc: 0.7431\n",
      "Epoch 3/10\n",
      "59/59 [==============================] - 23s 397ms/step - loss: 0.4296 - acc: 0.8014 - val_loss: 0.5288 - val_acc: 0.7439\n",
      "Epoch 4/10\n",
      "59/59 [==============================] - 23s 392ms/step - loss: 0.3524 - acc: 0.8435 - val_loss: 0.5374 - val_acc: 0.7606\n",
      "Epoch 5/10\n",
      "59/59 [==============================] - 23s 389ms/step - loss: 0.2990 - acc: 0.8633 - val_loss: 0.6312 - val_acc: 0.7528\n",
      "Epoch 6/10\n",
      "59/59 [==============================] - 23s 388ms/step - loss: 0.2682 - acc: 0.8827 - val_loss: 0.6905 - val_acc: 0.7528\n",
      "Epoch 7/10\n",
      "59/59 [==============================] - 24s 402ms/step - loss: 0.2480 - acc: 0.8898 - val_loss: 0.6770 - val_acc: 0.7457\n",
      "Epoch 8/10\n",
      "59/59 [==============================] - 24s 406ms/step - loss: 0.2266 - acc: 0.8980 - val_loss: 0.8122 - val_acc: 0.7469\n",
      "Epoch 9/10\n",
      "59/59 [==============================] - 24s 410ms/step - loss: 0.2122 - acc: 0.9052 - val_loss: 0.9496 - val_acc: 0.7453\n",
      "Epoch 10/10\n",
      "59/59 [==============================] - 24s 407ms/step - loss: 0.2214 - acc: 0.9068 - val_loss: 0.7474 - val_acc: 0.7489\n"
     ]
    }
   ],
   "source": [
    "# 4th Pass with more dropout layers\n",
    "\n",
    "\n",
    "model4 = Sequential()\n",
    "\n",
    "model4.add(Dense(units=8192, # number of neuros in the 1st hidden layer (number in the power of 2 that is larger than than the number of features)\n",
    "                activation='relu', # Relu activation function\n",
    "                input_shape=(6088,) # Shape of the input layer/number of features/numnber of neurons in the input layer\n",
    "                ))\n",
    "\n",
    "model4.add(Dense(10, activation = 'relu'))\n",
    "model4.add(Dropout(0.2)) # Refers to nodes in the first hidden layer\n",
    "model4.add(Dense(10, activation = 'relu'))\n",
    "model4.add(Dropout(0.2))\n",
    "model4.add(Dense(10, activation = 'relu'))\n",
    "model4.add(Dropout(0.2))\n",
    "model4.add(Dense(10, activation = 'relu'))\n",
    "\n",
    "model4.add(Dense(1, activation = 'sigmoid'))\n",
    "\n",
    "model4.compile(\n",
    "    loss = 'bce',\n",
    "    optimizer = 'adam',\n",
    "    metrics = ['acc']\n",
    ")\n",
    "\n",
    "results4 = model4.fit(X_train_sc, y_train, #training data\n",
    "                    epochs=10, # Number of passes\n",
    "                    batch_size=256, #Maximum of 256 rows of data in every mini batch\n",
    "                    validation_data=(X_test_sc, y_test) # Validation data/Unseen Data\n",
    "                    )"
   ]
  },
  {
   "cell_type": "code",
   "execution_count": 28,
   "id": "60a6a14f-5a30-4dfb-9142-045fc7d68b29",
   "metadata": {},
   "outputs": [
    {
     "name": "stdout",
     "output_type": "stream",
     "text": [
      "Epoch 1/10\n",
      "59/59 [==============================] - 16s 260ms/step - loss: 0.5723 - acc: 0.6951 - val_loss: 0.5134 - val_acc: 0.7485\n",
      "Epoch 2/10\n",
      "59/59 [==============================] - 17s 281ms/step - loss: 0.2687 - acc: 0.8808 - val_loss: 0.6454 - val_acc: 0.7530\n",
      "Epoch 3/10\n",
      "59/59 [==============================] - 18s 304ms/step - loss: 0.1707 - acc: 0.9223 - val_loss: 0.9387 - val_acc: 0.7504\n",
      "Epoch 4/10\n",
      "59/59 [==============================] - 18s 306ms/step - loss: 0.1313 - acc: 0.9393 - val_loss: 1.0829 - val_acc: 0.7576\n",
      "Epoch 5/10\n",
      "59/59 [==============================] - 18s 301ms/step - loss: 0.1030 - acc: 0.9517 - val_loss: 1.0950 - val_acc: 0.7467\n",
      "Epoch 6/10\n",
      "59/59 [==============================] - 19s 319ms/step - loss: 0.0836 - acc: 0.9603 - val_loss: 1.5978 - val_acc: 0.7497\n",
      "Epoch 00006: early stopping\n"
     ]
    }
   ],
   "source": [
    "# 5th Pass with more neurons and early stopping \n",
    "\n",
    "\n",
    "model5 = Sequential()\n",
    "\n",
    "# First layer is the input layer AND the hidden layer\n",
    "model5.add(Dense(units=8192, # number of neuros in the 1st hidden layer (number in the power of 2 that is larger than than the number of features)\n",
    "                activation='relu', # Relu activation function\n",
    "                input_shape=(6088,) # Shape of the input layer/number of features/numnber of neurons in the input layer\n",
    "                ))\n",
    "model5.add(Dense(300, activation='relu'))\n",
    "model5.add(Dense(200, activation='relu'))\n",
    "model5.add(Dense(300, activation='relu'))\n",
    "model5.add(Dense(200, activation='relu'))\n",
    "model5.add(Dense(100, activation='relu'))\n",
    "\n",
    "\n",
    "model5.add(Dense(units=1, activation='sigmoid'))\n",
    "model5.compile(loss='bce', optimizer='adam', metrics=['acc'])\n",
    "\n",
    "early_stop = EarlyStopping(monitor = 'val_loss', min_delta=0, patience = 5, verbose = 1, mode = 'auto')\n",
    "\n",
    "results5 = model5.fit(X_train_sc, y_train,\n",
    "                    batch_size=256,\n",
    "                    epochs=10,\n",
    "                    validation_data=(X_test_sc, y_test),\n",
    "                    callbacks = [early_stop]\n",
    "                    \n",
    "                    )"
   ]
  },
  {
   "cell_type": "markdown",
   "id": "efe1168a-775b-483c-a9f0-471fa3e586b1",
   "metadata": {},
   "source": [
    "## Compare Results & Evaluate"
   ]
  },
  {
   "cell_type": "code",
   "execution_count": 33,
   "id": "98e4dc94-6d45-404a-b51b-ba53e342a04e",
   "metadata": {},
   "outputs": [
    {
     "data": {
      "image/png": "[encoded data removed]",
      "text/plain": [
       "<Figure size 864x576 with 1 Axes>"
      ]
     },
     "metadata": {
      "needs_background": "light"
     },
     "output_type": "display_data"
    }
   ],
   "source": [
    "# Visualize testing accuracy\n",
    "\n",
    "\n",
    "train_acc = results.history['acc']\n",
    "test_acc = results.history['val_acc']\n",
    "\n",
    "train_acc2 = results2.history['acc']\n",
    "test_acc2 = results2.history['val_acc']\n",
    "\n",
    "train_acc3 = results3.history['acc']\n",
    "test_acc3 = results3.history['val_acc']\n",
    "\n",
    "train_acc4 = results4.history['acc']\n",
    "test_acc4 = results4.history['val_acc']\n",
    "\n",
    "train_acc5 = results5.history['acc']\n",
    "test_acc5 = results5.history['val_acc']\n",
    "\n",
    "\n",
    "\n",
    "\n",
    "plt.figure(figsize=(12, 8))\n",
    "#plt.plot(train_acc, label='Training acc 1', color='navy')\n",
    "plt.plot(test_acc, label='Testing acc 1', color='skyblue')\n",
    "\n",
    "#plt.plot(train_acc2, label='Training acc 2', color='violet')\n",
    "plt.plot(test_acc2, label='Testing acc 2', color='lavender')\n",
    "\n",
    "#plt.plot(train_acc3, label='Training acc 3', color='black')\n",
    "plt.plot(test_acc3, label='Testing acc 3', color='grey')\n",
    "\n",
    "#plt.plot(train_acc4, label='Training acc 4', color='orange')\n",
    "plt.plot(test_acc4, label='Testing acc 4', color='pink')\n",
    "\n",
    "#plt.plot(train_acc4, label='Training acc 4', color='orange')\n",
    "plt.plot(test_acc5, label='Testing acc 5', color='purple')\n",
    "plt.legend();"
   ]
  },
  {
   "cell_type": "code",
   "execution_count": 35,
   "id": "ef4be20c-5f36-4af5-9bf6-334bea21eb0e",
   "metadata": {},
   "outputs": [
    {
     "data": {
      "image/png": "[encoded data removed]",
      "text/plain": [
       "<Figure size 864x576 with 1 Axes>"
      ]
     },
     "metadata": {
      "needs_background": "light"
     },
     "output_type": "display_data"
    }
   ],
   "source": [
    "# Visualize all accuracy\n",
    "\n",
    "\n",
    "train_acc = results.history['acc']\n",
    "test_acc = results.history['val_acc']\n",
    "\n",
    "train_acc2 = results2.history['acc']\n",
    "test_acc2 = results2.history['val_acc']\n",
    "\n",
    "train_acc3 = results3.history['acc']\n",
    "test_acc3 = results3.history['val_acc']\n",
    "\n",
    "train_acc4 = results4.history['acc']\n",
    "test_acc4 = results4.history['val_acc']\n",
    "\n",
    "train_acc5 = results5.history['acc']\n",
    "test_acc5 = results5.history['val_acc']\n",
    "\n",
    "plt.figure(figsize=(12, 8))\n",
    "plt.plot(train_acc, label='Training acc 1', color='navy')\n",
    "plt.plot(test_acc, label='Testing acc 1', color='skyblue')\n",
    "\n",
    "plt.plot(train_acc2, label='Training acc 2', color='violet')\n",
    "plt.plot(test_acc2, label='Testing acc 2', color='lavender')\n",
    "\n",
    "plt.plot(train_acc3, label='Training acc 3', color='black')\n",
    "plt.plot(test_acc3, label='Testing acc 3', color='grey')\n",
    "\n",
    "plt.plot(train_acc4, label='Training acc 4', color='darkgreen')\n",
    "plt.plot(test_acc4, label='Testing acc 4', color='lime')\n",
    "\n",
    "plt.plot(train_acc5, label='Training acc 5', color='pink')\n",
    "plt.plot(test_acc5, label='Testing acc 5', color='lightpink')\n",
    "plt.legend();"
   ]
  },
  {
   "cell_type": "code",
   "execution_count": 36,
   "id": "b8c07f7c-2e9a-49c1-a1f9-2072986dc3b5",
   "metadata": {},
   "outputs": [
    {
     "data": {
      "text/plain": [
       "(0.9747949838638306, 0.7461492419242859)"
      ]
     },
     "execution_count": 36,
     "metadata": {},
     "output_type": "execute_result"
    }
   ],
   "source": [
    "results.history['acc'][-1], results.history['val_acc'][-1]"
   ]
  },
  {
   "cell_type": "code",
   "execution_count": 37,
   "id": "06903611-e4ca-49c2-b569-60d41af98f25",
   "metadata": {},
   "outputs": [
    {
     "data": {
      "text/plain": [
       "(0.956324577331543, 0.7463492751121521)"
      ]
     },
     "execution_count": 37,
     "metadata": {},
     "output_type": "execute_result"
    }
   ],
   "source": [
    "results2.history['acc'][-1], results2.history['val_acc'][-1]"
   ]
  },
  {
   "cell_type": "code",
   "execution_count": 38,
   "id": "afceb86e-8af4-4b6d-87e0-3fcd58126ecf",
   "metadata": {},
   "outputs": [
    {
     "data": {
      "text/plain": [
       "(0.9540574550628662, 0.7521504163742065)"
      ]
     },
     "execution_count": 38,
     "metadata": {},
     "output_type": "execute_result"
    }
   ],
   "source": [
    "results3.history['acc'][-1], results3.history['val_acc'][-1]"
   ]
  },
  {
   "cell_type": "code",
   "execution_count": 39,
   "id": "5eb3bcf8-c175-49f0-978c-22cb59749b45",
   "metadata": {},
   "outputs": [
    {
     "data": {
      "text/plain": [
       "(0.9591251611709595, 0.7445489168167114)"
      ]
     },
     "execution_count": 39,
     "metadata": {},
     "output_type": "execute_result"
    }
   ],
   "source": [
    "results4.history['acc'][-1], results4.history['val_acc'][-1]"
   ]
  },
  {
   "cell_type": "code",
   "execution_count": 40,
   "id": "7054e48e-f818-4e79-9623-edecac76ce7b",
   "metadata": {},
   "outputs": [
    {
     "data": {
      "text/plain": [
       "(0.9603254199028015, 0.7497499585151672)"
      ]
     },
     "execution_count": 40,
     "metadata": {},
     "output_type": "execute_result"
    }
   ],
   "source": [
    "results5.history['acc'][-1], results5.history['val_acc'][-1]"
   ]
  },
  {
   "cell_type": "markdown",
   "id": "391057e8-b3cf-4087-931d-96ab3b337d56",
   "metadata": {},
   "source": [
    "## Findings\n",
    "* Model 3 seems to perform the best, although we are still not seeing accuracies that are competitive with our classification models (logistic regression tested 80.7%).\n",
    "* This may be due to the limited size of our data- where we have less than 20k records.\n",
    "* If I were to revisit this analysis, it would be interesting to see if more data yielded better results for neural networks\n"
   ]
  }
 ],
 "metadata": {
  "kernelspec": {
   "display_name": "Python 3",
   "language": "python",
   "name": "python3"
  },
  "language_info": {
   "codemirror_mode": {
    "name": "ipython",
    "version": 3
   },
   "file_extension": ".py",
   "mimetype": "text/x-python",
   "name": "python",
   "nbconvert_exporter": "python",
   "pygments_lexer": "ipython3",
   "version": "3.8.8"
  }
 },
 "nbformat": 4,
 "nbformat_minor": 5
}
